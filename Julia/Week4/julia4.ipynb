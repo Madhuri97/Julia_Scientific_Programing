{
 "cells": [
  {
   "cell_type": "code",
   "execution_count": 1,
   "metadata": {},
   "outputs": [
    {
     "data": {
      "text/plain": [
       "4"
      ]
     },
     "execution_count": 1,
     "metadata": {},
     "output_type": "execute_result"
    }
   ],
   "source": [
    "+(2,2)"
   ]
  },
  {
   "cell_type": "code",
   "execution_count": 3,
   "metadata": {},
   "outputs": [
    {
     "name": "stdout",
     "output_type": "stream",
     "text": [
      "\u001b[32m\u001b[1m  Updating\u001b[22m\u001b[39m registry at `C:\\Users\\M. LAKSHMI MADHURI\\.julia\\registries\\General`\n",
      "\u001b[32m\u001b[1m  Updating\u001b[22m\u001b[39m git-repo `https://github.com/JuliaRegistries/General.git`\n",
      "\u001b[2K\u001b[36m\u001b[1mFetching:\u001b[22m\u001b[39m [========================================>]  100.0 %.0 %\u001b[?25h\u001b[32m\u001b[1m Resolving\u001b[22m\u001b[39m package versions...\n",
      "\u001b[32m\u001b[1m  Updating\u001b[22m\u001b[39m `C:\\Users\\M. LAKSHMI MADHURI\\.julia\\environments\\v1.0\\Project.toml`\n",
      " \u001b[90m [31c24e10]\u001b[39m\u001b[92m + Distributions v0.23.10\u001b[39m\n",
      "\u001b[32m\u001b[1m  Updating\u001b[22m\u001b[39m `C:\\Users\\M. LAKSHMI MADHURI\\.julia\\environments\\v1.0\\Manifest.toml`\n",
      "\u001b[90m [no changes]\u001b[39m\n"
     ]
    }
   ],
   "source": [
    "using Pkg\n",
    "Pkg.add(\"Distributions\")"
   ]
  },
  {
   "cell_type": "code",
   "execution_count": 6,
   "metadata": {},
   "outputs": [
    {
     "name": "stdout",
     "output_type": "stream",
     "text": [
      "\u001b[32m\u001b[1m  Updating\u001b[22m\u001b[39m registry at `C:\\Users\\M. LAKSHMI MADHURI\\.julia\\registries\\General`\n",
      "\u001b[32m\u001b[1m  Updating\u001b[22m\u001b[39m git-repo `https://github.com/JuliaRegistries/General.git`\n",
      "\u001b[2K\u001b[?25h[1mFetching:\u001b[22m\u001b[39m [========================================>]  100.0 %.0 %\u001b[32m\u001b[1m Resolving\u001b[22m\u001b[39m package versions...\n",
      "\u001b[32m\u001b[1m  Updating\u001b[22m\u001b[39m `C:\\Users\\M. LAKSHMI MADHURI\\.julia\\environments\\v1.0\\Project.toml`\n",
      "\u001b[90m [no changes]\u001b[39m\n",
      "\u001b[32m\u001b[1m  Updating\u001b[22m\u001b[39m `C:\\Users\\M. LAKSHMI MADHURI\\.julia\\environments\\v1.0\\Manifest.toml`\n",
      "\u001b[90m [no changes]\u001b[39m\n"
     ]
    }
   ],
   "source": [
    "Pkg.update()"
   ]
  },
  {
   "cell_type": "code",
   "execution_count": 7,
   "metadata": {},
   "outputs": [
    {
     "data": {
      "text/plain": [
       "Plots.GRBackend()"
      ]
     },
     "execution_count": 7,
     "metadata": {},
     "output_type": "execute_result"
    }
   ],
   "source": [
    "using Distributions\n",
    "using StatsBase\n",
    "using CSV\n",
    "using DataFrames\n",
    "using HypothesisTests\n",
    "using Plots\n",
    "# using GL\n",
    "gr()"
   ]
  },
  {
   "cell_type": "code",
   "execution_count": 8,
   "metadata": {},
   "outputs": [],
   "source": [
    "age = rand(18:80, 100);\n",
    "wcc = round.(rand(Distributions.Normal(12,2), 100), digits = 1)\n",
    "crp = round.(Int, rand(Distributions.Chisq(4), 100)) .*10\n",
    "treatment = rand([\"A\", \"B\"], 100);\n",
    "result = rand([\"Improved\", \"Static\", \"Worse\"], 100);"
   ]
  },
  {
   "cell_type": "markdown",
   "metadata": {},
   "source": [
    "Descriptive statistics"
   ]
  },
  {
   "cell_type": "code",
   "execution_count": 9,
   "metadata": {},
   "outputs": [
    {
     "data": {
      "text/plain": [
       "50.2"
      ]
     },
     "execution_count": 9,
     "metadata": {},
     "output_type": "execute_result"
    }
   ],
   "source": [
    "mean(age) #mean"
   ]
  },
  {
   "cell_type": "code",
   "execution_count": 10,
   "metadata": {},
   "outputs": [
    {
     "data": {
      "text/plain": [
       "52.5"
      ]
     },
     "execution_count": 10,
     "metadata": {},
     "output_type": "execute_result"
    }
   ],
   "source": [
    "median(age) #median"
   ]
  },
  {
   "cell_type": "code",
   "execution_count": 11,
   "metadata": {},
   "outputs": [
    {
     "data": {
      "text/plain": [
       "17.805912081398837"
      ]
     },
     "execution_count": 11,
     "metadata": {},
     "output_type": "execute_result"
    }
   ],
   "source": [
    "std(age) #standard deviation"
   ]
  },
  {
   "cell_type": "code",
   "execution_count": 12,
   "metadata": {},
   "outputs": [
    {
     "data": {
      "text/plain": [
       "317.050505050505"
      ]
     },
     "execution_count": 12,
     "metadata": {},
     "output_type": "execute_result"
    }
   ],
   "source": [
    "var(age) #variance"
   ]
  },
  {
   "cell_type": "code",
   "execution_count": 13,
   "metadata": {},
   "outputs": [
    {
     "data": {
      "text/plain": [
       "12.017999999999999"
      ]
     },
     "execution_count": 13,
     "metadata": {},
     "output_type": "execute_result"
    }
   ],
   "source": [
    "mean(wcc)"
   ]
  },
  {
   "cell_type": "code",
   "execution_count": 14,
   "metadata": {},
   "outputs": [
    {
     "data": {
      "text/plain": [
       "1.8368495206783164"
      ]
     },
     "execution_count": 14,
     "metadata": {},
     "output_type": "execute_result"
    }
   ],
   "source": [
    "std(wcc)"
   ]
  },
  {
   "cell_type": "code",
   "execution_count": 16,
   "metadata": {},
   "outputs": [
    {
     "name": "stdout",
     "output_type": "stream",
     "text": [
      "Summary Stats:\n",
      "Length:         100\n",
      "Missing Count:  0\n",
      "Mean:           50.200000\n",
      "Minimum:        18.000000\n",
      "1st Quartile:   34.000000\n",
      "Median:         52.500000\n",
      "3rd Quartile:   64.000000\n",
      "Maximum:        80.000000\n",
      "Type:           Int64\n"
     ]
    }
   ],
   "source": [
    "StatsBase.describe(age) #statistical description"
   ]
  },
  {
   "cell_type": "code",
   "execution_count": 18,
   "metadata": {},
   "outputs": [
    {
     "data": {
      "text/plain": [
       "Summary Stats:\n",
       "Length:         100\n",
       "Missing Count:  0\n",
       "Mean:           12.018000\n",
       "Minimum:        6.900000\n",
       "1st Quartile:   10.800000\n",
       "Median:         11.950000\n",
       "3rd Quartile:   13.225000\n",
       "Maximum:        16.900000\n"
      ]
     },
     "execution_count": 18,
     "metadata": {},
     "output_type": "execute_result"
    }
   ],
   "source": [
    "StatsBase.summarystats(wcc) #the length and type will be displayed"
   ]
  },
  {
   "cell_type": "markdown",
   "metadata": {},
   "source": [
    "Creating DataFrame"
   ]
  },
  {
   "cell_type": "code",
   "execution_count": 19,
   "metadata": {},
   "outputs": [
    {
     "data": {
      "text/html": [
       "<table class=\"data-frame\"><thead><tr><th></th><th>Age</th><th>WCC</th><th>CRP</th><th>Treatment</th><th>Result</th></tr><tr><th></th><th>Int64</th><th>Float64</th><th>Int64</th><th>String</th><th>String</th></tr></thead><tbody><p>100 rows × 5 columns</p><tr><th>1</th><td>31</td><td>12.5</td><td>20</td><td>B</td><td>Improved</td></tr><tr><th>2</th><td>27</td><td>11.0</td><td>10</td><td>A</td><td>Static</td></tr><tr><th>3</th><td>22</td><td>14.7</td><td>30</td><td>A</td><td>Worse</td></tr><tr><th>4</th><td>20</td><td>10.7</td><td>90</td><td>B</td><td>Improved</td></tr><tr><th>5</th><td>64</td><td>14.0</td><td>100</td><td>B</td><td>Static</td></tr><tr><th>6</th><td>19</td><td>11.8</td><td>50</td><td>B</td><td>Worse</td></tr><tr><th>7</th><td>38</td><td>11.2</td><td>10</td><td>A</td><td>Worse</td></tr><tr><th>8</th><td>33</td><td>9.6</td><td>10</td><td>B</td><td>Improved</td></tr><tr><th>9</th><td>34</td><td>12.9</td><td>30</td><td>A</td><td>Static</td></tr><tr><th>10</th><td>54</td><td>13.2</td><td>60</td><td>B</td><td>Worse</td></tr><tr><th>11</th><td>53</td><td>15.6</td><td>40</td><td>A</td><td>Improved</td></tr><tr><th>12</th><td>72</td><td>13.3</td><td>20</td><td>B</td><td>Worse</td></tr><tr><th>13</th><td>47</td><td>14.3</td><td>80</td><td>A</td><td>Worse</td></tr><tr><th>14</th><td>36</td><td>10.0</td><td>40</td><td>B</td><td>Improved</td></tr><tr><th>15</th><td>52</td><td>9.1</td><td>40</td><td>B</td><td>Worse</td></tr><tr><th>16</th><td>63</td><td>14.3</td><td>80</td><td>B</td><td>Worse</td></tr><tr><th>17</th><td>33</td><td>12.4</td><td>0</td><td>A</td><td>Static</td></tr><tr><th>18</th><td>75</td><td>11.4</td><td>60</td><td>A</td><td>Improved</td></tr><tr><th>19</th><td>50</td><td>10.6</td><td>70</td><td>A</td><td>Worse</td></tr><tr><th>20</th><td>62</td><td>9.5</td><td>10</td><td>B</td><td>Worse</td></tr><tr><th>21</th><td>32</td><td>13.5</td><td>20</td><td>B</td><td>Static</td></tr><tr><th>22</th><td>69</td><td>9.9</td><td>50</td><td>A</td><td>Worse</td></tr><tr><th>23</th><td>23</td><td>13.7</td><td>0</td><td>A</td><td>Improved</td></tr><tr><th>24</th><td>25</td><td>12.2</td><td>50</td><td>B</td><td>Worse</td></tr><tr><th>25</th><td>59</td><td>12.0</td><td>100</td><td>B</td><td>Static</td></tr><tr><th>26</th><td>23</td><td>11.8</td><td>110</td><td>B</td><td>Improved</td></tr><tr><th>27</th><td>60</td><td>9.7</td><td>20</td><td>B</td><td>Worse</td></tr><tr><th>28</th><td>64</td><td>13.2</td><td>20</td><td>B</td><td>Static</td></tr><tr><th>29</th><td>66</td><td>14.5</td><td>30</td><td>B</td><td>Improved</td></tr><tr><th>30</th><td>59</td><td>10.9</td><td>50</td><td>B</td><td>Worse</td></tr><tr><th>&vellip;</th><td>&vellip;</td><td>&vellip;</td><td>&vellip;</td><td>&vellip;</td><td>&vellip;</td></tr></tbody></table>"
      ],
      "text/latex": [
       "\\begin{tabular}{r|ccccc}\n",
       "\t& Age & WCC & CRP & Treatment & Result\\\\\n",
       "\t\\hline\n",
       "\t& Int64 & Float64 & Int64 & String & String\\\\\n",
       "\t\\hline\n",
       "\t1 & 31 & 12.5 & 20 & B & Improved \\\\\n",
       "\t2 & 27 & 11.0 & 10 & A & Static \\\\\n",
       "\t3 & 22 & 14.7 & 30 & A & Worse \\\\\n",
       "\t4 & 20 & 10.7 & 90 & B & Improved \\\\\n",
       "\t5 & 64 & 14.0 & 100 & B & Static \\\\\n",
       "\t6 & 19 & 11.8 & 50 & B & Worse \\\\\n",
       "\t7 & 38 & 11.2 & 10 & A & Worse \\\\\n",
       "\t8 & 33 & 9.6 & 10 & B & Improved \\\\\n",
       "\t9 & 34 & 12.9 & 30 & A & Static \\\\\n",
       "\t10 & 54 & 13.2 & 60 & B & Worse \\\\\n",
       "\t11 & 53 & 15.6 & 40 & A & Improved \\\\\n",
       "\t12 & 72 & 13.3 & 20 & B & Worse \\\\\n",
       "\t13 & 47 & 14.3 & 80 & A & Worse \\\\\n",
       "\t14 & 36 & 10.0 & 40 & B & Improved \\\\\n",
       "\t15 & 52 & 9.1 & 40 & B & Worse \\\\\n",
       "\t16 & 63 & 14.3 & 80 & B & Worse \\\\\n",
       "\t17 & 33 & 12.4 & 0 & A & Static \\\\\n",
       "\t18 & 75 & 11.4 & 60 & A & Improved \\\\\n",
       "\t19 & 50 & 10.6 & 70 & A & Worse \\\\\n",
       "\t20 & 62 & 9.5 & 10 & B & Worse \\\\\n",
       "\t21 & 32 & 13.5 & 20 & B & Static \\\\\n",
       "\t22 & 69 & 9.9 & 50 & A & Worse \\\\\n",
       "\t23 & 23 & 13.7 & 0 & A & Improved \\\\\n",
       "\t24 & 25 & 12.2 & 50 & B & Worse \\\\\n",
       "\t25 & 59 & 12.0 & 100 & B & Static \\\\\n",
       "\t26 & 23 & 11.8 & 110 & B & Improved \\\\\n",
       "\t27 & 60 & 9.7 & 20 & B & Worse \\\\\n",
       "\t28 & 64 & 13.2 & 20 & B & Static \\\\\n",
       "\t29 & 66 & 14.5 & 30 & B & Improved \\\\\n",
       "\t30 & 59 & 10.9 & 50 & B & Worse \\\\\n",
       "\t$\\dots$ & $\\dots$ & $\\dots$ & $\\dots$ & $\\dots$ & $\\dots$ \\\\\n",
       "\\end{tabular}\n"
      ],
      "text/plain": [
       "100×5 DataFrame\n",
       "│ Row │ Age   │ WCC     │ CRP   │ Treatment │ Result   │\n",
       "│     │ \u001b[90mInt64\u001b[39m │ \u001b[90mFloat64\u001b[39m │ \u001b[90mInt64\u001b[39m │ \u001b[90mString\u001b[39m    │ \u001b[90mString\u001b[39m   │\n",
       "├─────┼───────┼─────────┼───────┼───────────┼──────────┤\n",
       "│ 1   │ 31    │ 12.5    │ 20    │ B         │ Improved │\n",
       "│ 2   │ 27    │ 11.0    │ 10    │ A         │ Static   │\n",
       "│ 3   │ 22    │ 14.7    │ 30    │ A         │ Worse    │\n",
       "│ 4   │ 20    │ 10.7    │ 90    │ B         │ Improved │\n",
       "│ 5   │ 64    │ 14.0    │ 100   │ B         │ Static   │\n",
       "│ 6   │ 19    │ 11.8    │ 50    │ B         │ Worse    │\n",
       "│ 7   │ 38    │ 11.2    │ 10    │ A         │ Worse    │\n",
       "│ 8   │ 33    │ 9.6     │ 10    │ B         │ Improved │\n",
       "│ 9   │ 34    │ 12.9    │ 30    │ A         │ Static   │\n",
       "│ 10  │ 54    │ 13.2    │ 60    │ B         │ Worse    │\n",
       "⋮\n",
       "│ 90  │ 53    │ 11.3    │ 40    │ B         │ Worse    │\n",
       "│ 91  │ 74    │ 10.5    │ 10    │ B         │ Improved │\n",
       "│ 92  │ 65    │ 11.8    │ 30    │ A         │ Static   │\n",
       "│ 93  │ 75    │ 13.8    │ 20    │ A         │ Static   │\n",
       "│ 94  │ 50    │ 8.1     │ 50    │ B         │ Worse    │\n",
       "│ 95  │ 66    │ 12.9    │ 60    │ A         │ Worse    │\n",
       "│ 96  │ 61    │ 11.2    │ 20    │ A         │ Static   │\n",
       "│ 97  │ 49    │ 10.8    │ 120   │ B         │ Static   │\n",
       "│ 98  │ 56    │ 12.5    │ 80    │ B         │ Improved │\n",
       "│ 99  │ 26    │ 15.3    │ 50    │ B         │ Static   │\n",
       "│ 100 │ 44    │ 13.4    │ 20    │ B         │ Worse    │"
      ]
     },
     "execution_count": 19,
     "metadata": {},
     "output_type": "execute_result"
    }
   ],
   "source": [
    "data = DataFrame(Age = age, WCC = wcc, CRP = crp, Treatment = treatment, Result = result)"
   ]
  },
  {
   "cell_type": "code",
   "execution_count": 20,
   "metadata": {},
   "outputs": [
    {
     "data": {
      "text/plain": [
       "(100, 5)"
      ]
     },
     "execution_count": 20,
     "metadata": {},
     "output_type": "execute_result"
    }
   ],
   "source": [
    "size(data) #number of rows and columns"
   ]
  },
  {
   "cell_type": "code",
   "execution_count": 24,
   "metadata": {},
   "outputs": [
    {
     "data": {
      "text/html": [
       "<table class=\"data-frame\"><thead><tr><th></th><th>Age</th><th>WCC</th><th>CRP</th><th>Treatment</th><th>Result</th></tr><tr><th></th><th>Int64</th><th>Float64</th><th>Int64</th><th>String</th><th>String</th></tr></thead><tbody><p>6 rows × 5 columns</p><tr><th>1</th><td>31</td><td>12.5</td><td>20</td><td>B</td><td>Improved</td></tr><tr><th>2</th><td>27</td><td>11.0</td><td>10</td><td>A</td><td>Static</td></tr><tr><th>3</th><td>22</td><td>14.7</td><td>30</td><td>A</td><td>Worse</td></tr><tr><th>4</th><td>20</td><td>10.7</td><td>90</td><td>B</td><td>Improved</td></tr><tr><th>5</th><td>64</td><td>14.0</td><td>100</td><td>B</td><td>Static</td></tr><tr><th>6</th><td>19</td><td>11.8</td><td>50</td><td>B</td><td>Worse</td></tr></tbody></table>"
      ],
      "text/latex": [
       "\\begin{tabular}{r|ccccc}\n",
       "\t& Age & WCC & CRP & Treatment & Result\\\\\n",
       "\t\\hline\n",
       "\t& Int64 & Float64 & Int64 & String & String\\\\\n",
       "\t\\hline\n",
       "\t1 & 31 & 12.5 & 20 & B & Improved \\\\\n",
       "\t2 & 27 & 11.0 & 10 & A & Static \\\\\n",
       "\t3 & 22 & 14.7 & 30 & A & Worse \\\\\n",
       "\t4 & 20 & 10.7 & 90 & B & Improved \\\\\n",
       "\t5 & 64 & 14.0 & 100 & B & Static \\\\\n",
       "\t6 & 19 & 11.8 & 50 & B & Worse \\\\\n",
       "\\end{tabular}\n"
      ],
      "text/plain": [
       "6×5 DataFrame\n",
       "│ Row │ Age   │ WCC     │ CRP   │ Treatment │ Result   │\n",
       "│     │ \u001b[90mInt64\u001b[39m │ \u001b[90mFloat64\u001b[39m │ \u001b[90mInt64\u001b[39m │ \u001b[90mString\u001b[39m    │ \u001b[90mString\u001b[39m   │\n",
       "├─────┼───────┼─────────┼───────┼───────────┼──────────┤\n",
       "│ 1   │ 31    │ 12.5    │ 20    │ B         │ Improved │\n",
       "│ 2   │ 27    │ 11.0    │ 10    │ A         │ Static   │\n",
       "│ 3   │ 22    │ 14.7    │ 30    │ A         │ Worse    │\n",
       "│ 4   │ 20    │ 10.7    │ 90    │ B         │ Improved │\n",
       "│ 5   │ 64    │ 14.0    │ 100   │ B         │ Static   │\n",
       "│ 6   │ 19    │ 11.8    │ 50    │ B         │ Worse    │"
      ]
     },
     "execution_count": 24,
     "metadata": {},
     "output_type": "execute_result"
    }
   ],
   "source": [
    "first(data, 6) #head"
   ]
  },
  {
   "cell_type": "markdown",
   "metadata": {},
   "source": [
    "We can create dataframe objects by selecting only subjects according to their data point values for a particular variable"
   ]
  },
  {
   "cell_type": "code",
   "execution_count": 27,
   "metadata": {},
   "outputs": [
    {
     "data": {
      "text/html": [
       "<table class=\"data-frame\"><thead><tr><th></th><th>Age</th><th>WCC</th><th>CRP</th><th>Treatment</th><th>Result</th></tr><tr><th></th><th>Int64</th><th>Float64</th><th>Int64</th><th>String</th><th>String</th></tr></thead><tbody><p>54 rows × 5 columns</p><tr><th>1</th><td>27</td><td>11.0</td><td>10</td><td>A</td><td>Static</td></tr><tr><th>2</th><td>22</td><td>14.7</td><td>30</td><td>A</td><td>Worse</td></tr><tr><th>3</th><td>38</td><td>11.2</td><td>10</td><td>A</td><td>Worse</td></tr><tr><th>4</th><td>34</td><td>12.9</td><td>30</td><td>A</td><td>Static</td></tr><tr><th>5</th><td>53</td><td>15.6</td><td>40</td><td>A</td><td>Improved</td></tr><tr><th>6</th><td>47</td><td>14.3</td><td>80</td><td>A</td><td>Worse</td></tr><tr><th>7</th><td>33</td><td>12.4</td><td>0</td><td>A</td><td>Static</td></tr><tr><th>8</th><td>75</td><td>11.4</td><td>60</td><td>A</td><td>Improved</td></tr><tr><th>9</th><td>50</td><td>10.6</td><td>70</td><td>A</td><td>Worse</td></tr><tr><th>10</th><td>69</td><td>9.9</td><td>50</td><td>A</td><td>Worse</td></tr><tr><th>11</th><td>23</td><td>13.7</td><td>0</td><td>A</td><td>Improved</td></tr><tr><th>12</th><td>33</td><td>13.3</td><td>80</td><td>A</td><td>Worse</td></tr><tr><th>13</th><td>65</td><td>16.2</td><td>30</td><td>A</td><td>Worse</td></tr><tr><th>14</th><td>49</td><td>12.5</td><td>50</td><td>A</td><td>Static</td></tr><tr><th>15</th><td>80</td><td>13.2</td><td>10</td><td>A</td><td>Static</td></tr><tr><th>16</th><td>58</td><td>10.3</td><td>70</td><td>A</td><td>Improved</td></tr><tr><th>17</th><td>75</td><td>11.5</td><td>60</td><td>A</td><td>Static</td></tr><tr><th>18</th><td>55</td><td>10.0</td><td>40</td><td>A</td><td>Static</td></tr><tr><th>19</th><td>39</td><td>11.0</td><td>70</td><td>A</td><td>Improved</td></tr><tr><th>20</th><td>76</td><td>16.9</td><td>130</td><td>A</td><td>Worse</td></tr><tr><th>21</th><td>35</td><td>10.0</td><td>30</td><td>A</td><td>Static</td></tr><tr><th>22</th><td>34</td><td>14.4</td><td>30</td><td>A</td><td>Static</td></tr><tr><th>23</th><td>29</td><td>10.6</td><td>60</td><td>A</td><td>Improved</td></tr><tr><th>24</th><td>33</td><td>13.7</td><td>20</td><td>A</td><td>Static</td></tr><tr><th>25</th><td>64</td><td>12.6</td><td>80</td><td>A</td><td>Improved</td></tr><tr><th>26</th><td>46</td><td>7.9</td><td>50</td><td>A</td><td>Worse</td></tr><tr><th>27</th><td>18</td><td>13.7</td><td>50</td><td>A</td><td>Improved</td></tr><tr><th>28</th><td>41</td><td>11.3</td><td>90</td><td>A</td><td>Improved</td></tr><tr><th>29</th><td>49</td><td>11.0</td><td>20</td><td>A</td><td>Static</td></tr><tr><th>30</th><td>38</td><td>12.1</td><td>70</td><td>A</td><td>Worse</td></tr><tr><th>&vellip;</th><td>&vellip;</td><td>&vellip;</td><td>&vellip;</td><td>&vellip;</td><td>&vellip;</td></tr></tbody></table>"
      ],
      "text/latex": [
       "\\begin{tabular}{r|ccccc}\n",
       "\t& Age & WCC & CRP & Treatment & Result\\\\\n",
       "\t\\hline\n",
       "\t& Int64 & Float64 & Int64 & String & String\\\\\n",
       "\t\\hline\n",
       "\t1 & 27 & 11.0 & 10 & A & Static \\\\\n",
       "\t2 & 22 & 14.7 & 30 & A & Worse \\\\\n",
       "\t3 & 38 & 11.2 & 10 & A & Worse \\\\\n",
       "\t4 & 34 & 12.9 & 30 & A & Static \\\\\n",
       "\t5 & 53 & 15.6 & 40 & A & Improved \\\\\n",
       "\t6 & 47 & 14.3 & 80 & A & Worse \\\\\n",
       "\t7 & 33 & 12.4 & 0 & A & Static \\\\\n",
       "\t8 & 75 & 11.4 & 60 & A & Improved \\\\\n",
       "\t9 & 50 & 10.6 & 70 & A & Worse \\\\\n",
       "\t10 & 69 & 9.9 & 50 & A & Worse \\\\\n",
       "\t11 & 23 & 13.7 & 0 & A & Improved \\\\\n",
       "\t12 & 33 & 13.3 & 80 & A & Worse \\\\\n",
       "\t13 & 65 & 16.2 & 30 & A & Worse \\\\\n",
       "\t14 & 49 & 12.5 & 50 & A & Static \\\\\n",
       "\t15 & 80 & 13.2 & 10 & A & Static \\\\\n",
       "\t16 & 58 & 10.3 & 70 & A & Improved \\\\\n",
       "\t17 & 75 & 11.5 & 60 & A & Static \\\\\n",
       "\t18 & 55 & 10.0 & 40 & A & Static \\\\\n",
       "\t19 & 39 & 11.0 & 70 & A & Improved \\\\\n",
       "\t20 & 76 & 16.9 & 130 & A & Worse \\\\\n",
       "\t21 & 35 & 10.0 & 30 & A & Static \\\\\n",
       "\t22 & 34 & 14.4 & 30 & A & Static \\\\\n",
       "\t23 & 29 & 10.6 & 60 & A & Improved \\\\\n",
       "\t24 & 33 & 13.7 & 20 & A & Static \\\\\n",
       "\t25 & 64 & 12.6 & 80 & A & Improved \\\\\n",
       "\t26 & 46 & 7.9 & 50 & A & Worse \\\\\n",
       "\t27 & 18 & 13.7 & 50 & A & Improved \\\\\n",
       "\t28 & 41 & 11.3 & 90 & A & Improved \\\\\n",
       "\t29 & 49 & 11.0 & 20 & A & Static \\\\\n",
       "\t30 & 38 & 12.1 & 70 & A & Worse \\\\\n",
       "\t$\\dots$ & $\\dots$ & $\\dots$ & $\\dots$ & $\\dots$ & $\\dots$ \\\\\n",
       "\\end{tabular}\n"
      ],
      "text/plain": [
       "54×5 DataFrame\n",
       "│ Row │ Age   │ WCC     │ CRP   │ Treatment │ Result   │\n",
       "│     │ \u001b[90mInt64\u001b[39m │ \u001b[90mFloat64\u001b[39m │ \u001b[90mInt64\u001b[39m │ \u001b[90mString\u001b[39m    │ \u001b[90mString\u001b[39m   │\n",
       "├─────┼───────┼─────────┼───────┼───────────┼──────────┤\n",
       "│ 1   │ 27    │ 11.0    │ 10    │ A         │ Static   │\n",
       "│ 2   │ 22    │ 14.7    │ 30    │ A         │ Worse    │\n",
       "│ 3   │ 38    │ 11.2    │ 10    │ A         │ Worse    │\n",
       "│ 4   │ 34    │ 12.9    │ 30    │ A         │ Static   │\n",
       "│ 5   │ 53    │ 15.6    │ 40    │ A         │ Improved │\n",
       "│ 6   │ 47    │ 14.3    │ 80    │ A         │ Worse    │\n",
       "│ 7   │ 33    │ 12.4    │ 0     │ A         │ Static   │\n",
       "│ 8   │ 75    │ 11.4    │ 60    │ A         │ Improved │\n",
       "│ 9   │ 50    │ 10.6    │ 70    │ A         │ Worse    │\n",
       "│ 10  │ 69    │ 9.9     │ 50    │ A         │ Worse    │\n",
       "⋮\n",
       "│ 44  │ 53    │ 11.3    │ 50    │ A         │ Improved │\n",
       "│ 45  │ 74    │ 6.9     │ 80    │ A         │ Worse    │\n",
       "│ 46  │ 77    │ 12.2    │ 20    │ A         │ Static   │\n",
       "│ 47  │ 49    │ 13.8    │ 20    │ A         │ Improved │\n",
       "│ 48  │ 60    │ 12.1    │ 10    │ A         │ Static   │\n",
       "│ 49  │ 54    │ 10.3    │ 60    │ A         │ Static   │\n",
       "│ 50  │ 58    │ 13.4    │ 50    │ A         │ Static   │\n",
       "│ 51  │ 65    │ 11.8    │ 30    │ A         │ Static   │\n",
       "│ 52  │ 75    │ 13.8    │ 20    │ A         │ Static   │\n",
       "│ 53  │ 66    │ 12.9    │ 60    │ A         │ Worse    │\n",
       "│ 54  │ 61    │ 11.2    │ 20    │ A         │ Static   │"
      ]
     },
     "execution_count": 27,
     "metadata": {},
     "output_type": "execute_result"
    }
   ],
   "source": [
    "dataA = data[data[!,:Treatment] .== \"A\", :] #display A specified rows and columns\n",
    "# dataB = data[data[!,:Treatment] .== \"B\", :]"
   ]
  },
  {
   "cell_type": "code",
   "execution_count": 33,
   "metadata": {},
   "outputs": [
    {
     "data": {
      "text/html": [
       "<table class=\"data-frame\"><thead><tr><th></th><th>Age</th><th>WCC</th><th>CRP</th><th>Treatment</th><th>Result</th></tr><tr><th></th><th>Int64</th><th>Float64</th><th>Int64</th><th>String</th><th>String</th></tr></thead><tbody><p>6 rows × 5 columns</p><tr><th>1</th><td>27</td><td>11.0</td><td>10</td><td>A</td><td>Static</td></tr><tr><th>2</th><td>22</td><td>14.7</td><td>30</td><td>A</td><td>Worse</td></tr><tr><th>3</th><td>38</td><td>11.2</td><td>10</td><td>A</td><td>Worse</td></tr><tr><th>4</th><td>34</td><td>12.9</td><td>30</td><td>A</td><td>Static</td></tr><tr><th>5</th><td>53</td><td>15.6</td><td>40</td><td>A</td><td>Improved</td></tr><tr><th>6</th><td>47</td><td>14.3</td><td>80</td><td>A</td><td>Worse</td></tr></tbody></table>"
      ],
      "text/latex": [
       "\\begin{tabular}{r|ccccc}\n",
       "\t& Age & WCC & CRP & Treatment & Result\\\\\n",
       "\t\\hline\n",
       "\t& Int64 & Float64 & Int64 & String & String\\\\\n",
       "\t\\hline\n",
       "\t1 & 27 & 11.0 & 10 & A & Static \\\\\n",
       "\t2 & 22 & 14.7 & 30 & A & Worse \\\\\n",
       "\t3 & 38 & 11.2 & 10 & A & Worse \\\\\n",
       "\t4 & 34 & 12.9 & 30 & A & Static \\\\\n",
       "\t5 & 53 & 15.6 & 40 & A & Improved \\\\\n",
       "\t6 & 47 & 14.3 & 80 & A & Worse \\\\\n",
       "\\end{tabular}\n"
      ],
      "text/plain": [
       "6×5 DataFrame\n",
       "│ Row │ Age   │ WCC     │ CRP   │ Treatment │ Result   │\n",
       "│     │ \u001b[90mInt64\u001b[39m │ \u001b[90mFloat64\u001b[39m │ \u001b[90mInt64\u001b[39m │ \u001b[90mString\u001b[39m    │ \u001b[90mString\u001b[39m   │\n",
       "├─────┼───────┼─────────┼───────┼───────────┼──────────┤\n",
       "│ 1   │ 27    │ 11.0    │ 10    │ A         │ Static   │\n",
       "│ 2   │ 22    │ 14.7    │ 30    │ A         │ Worse    │\n",
       "│ 3   │ 38    │ 11.2    │ 10    │ A         │ Worse    │\n",
       "│ 4   │ 34    │ 12.9    │ 30    │ A         │ Static   │\n",
       "│ 5   │ 53    │ 15.6    │ 40    │ A         │ Improved │\n",
       "│ 6   │ 47    │ 14.3    │ 80    │ A         │ Worse    │"
      ]
     },
     "execution_count": 33,
     "metadata": {},
     "output_type": "execute_result"
    }
   ],
   "source": [
    "first(dataA, 6)"
   ]
  },
  {
   "cell_type": "code",
   "execution_count": 65,
   "metadata": {},
   "outputs": [
    {
     "data": {
      "text/html": [
       "<table class=\"data-frame\"><thead><tr><th></th><th>Age</th><th>WCC</th><th>CRP</th><th>Treatment</th><th>Result</th></tr><tr><th></th><th>Int64</th><th>Float64</th><th>Int64</th><th>String</th><th>String</th></tr></thead><tbody><p>6 rows × 5 columns</p><tr><th>1</th><td>54</td><td>10.3</td><td>60</td><td>A</td><td>Static</td></tr><tr><th>2</th><td>58</td><td>13.4</td><td>50</td><td>A</td><td>Static</td></tr><tr><th>3</th><td>65</td><td>11.8</td><td>30</td><td>A</td><td>Static</td></tr><tr><th>4</th><td>75</td><td>13.8</td><td>20</td><td>A</td><td>Static</td></tr><tr><th>5</th><td>66</td><td>12.9</td><td>60</td><td>A</td><td>Worse</td></tr><tr><th>6</th><td>61</td><td>11.2</td><td>20</td><td>A</td><td>Static</td></tr></tbody></table>"
      ],
      "text/latex": [
       "\\begin{tabular}{r|ccccc}\n",
       "\t& Age & WCC & CRP & Treatment & Result\\\\\n",
       "\t\\hline\n",
       "\t& Int64 & Float64 & Int64 & String & String\\\\\n",
       "\t\\hline\n",
       "\t1 & 54 & 10.3 & 60 & A & Static \\\\\n",
       "\t2 & 58 & 13.4 & 50 & A & Static \\\\\n",
       "\t3 & 65 & 11.8 & 30 & A & Static \\\\\n",
       "\t4 & 75 & 13.8 & 20 & A & Static \\\\\n",
       "\t5 & 66 & 12.9 & 60 & A & Worse \\\\\n",
       "\t6 & 61 & 11.2 & 20 & A & Static \\\\\n",
       "\\end{tabular}\n"
      ],
      "text/plain": [
       "6×5 DataFrame\n",
       "│ Row │ Age   │ WCC     │ CRP   │ Treatment │ Result │\n",
       "│     │ \u001b[90mInt64\u001b[39m │ \u001b[90mFloat64\u001b[39m │ \u001b[90mInt64\u001b[39m │ \u001b[90mString\u001b[39m    │ \u001b[90mString\u001b[39m │\n",
       "├─────┼───────┼─────────┼───────┼───────────┼────────┤\n",
       "│ 1   │ 54    │ 10.3    │ 60    │ A         │ Static │\n",
       "│ 2   │ 58    │ 13.4    │ 50    │ A         │ Static │\n",
       "│ 3   │ 65    │ 11.8    │ 30    │ A         │ Static │\n",
       "│ 4   │ 75    │ 13.8    │ 20    │ A         │ Static │\n",
       "│ 5   │ 66    │ 12.9    │ 60    │ A         │ Worse  │\n",
       "│ 6   │ 61    │ 11.2    │ 20    │ A         │ Static │"
      ]
     },
     "execution_count": 65,
     "metadata": {},
     "output_type": "execute_result"
    }
   ],
   "source": [
    "last(dataA, :6)"
   ]
  },
  {
   "cell_type": "code",
   "execution_count": 93,
   "metadata": {},
   "outputs": [
    {
     "data": {
      "text/plain": [
       "100-element view(::Array{Int64,1}, :) with eltype Int64:\n",
       "  20\n",
       "  10\n",
       "  30\n",
       "  90\n",
       " 100\n",
       "  50\n",
       "  10\n",
       "  10\n",
       "  30\n",
       "  60\n",
       "  40\n",
       "  20\n",
       "  80\n",
       "   ⋮\n",
       "  50\n",
       "  40\n",
       "  10\n",
       "  30\n",
       "  20\n",
       "  50\n",
       "  60\n",
       "  20\n",
       " 120\n",
       "  80\n",
       "  50\n",
       "  20"
      ]
     },
     "execution_count": 93,
     "metadata": {},
     "output_type": "execute_result"
    }
   ],
   "source": [
    "# view(data,:,3)\n",
    "view(data,:,3)"
   ]
  },
  {
   "cell_type": "markdown",
   "metadata": {},
   "source": [
    "descriptive statistics using the dataframe object"
   ]
  },
  {
   "cell_type": "code",
   "execution_count": 34,
   "metadata": {},
   "outputs": [
    {
     "data": {
      "text/html": [
       "<table class=\"data-frame\"><thead><tr><th></th><th>variable</th><th>mean</th><th>min</th><th>median</th><th>max</th><th>nunique</th><th>nmissing</th><th>eltype</th></tr><tr><th></th><th>Symbol</th><th>Union…</th><th>Any</th><th>Union…</th><th>Any</th><th>Union…</th><th>Nothing</th><th>DataType</th></tr></thead><tbody><p>5 rows × 8 columns</p><tr><th>1</th><td>Age</td><td>50.2</td><td>18</td><td>52.5</td><td>80</td><td></td><td></td><td>Int64</td></tr><tr><th>2</th><td>WCC</td><td>12.018</td><td>6.9</td><td>11.95</td><td>16.9</td><td></td><td></td><td>Float64</td></tr><tr><th>3</th><td>CRP</td><td>42.2</td><td>0</td><td>40.0</td><td>130</td><td></td><td></td><td>Int64</td></tr><tr><th>4</th><td>Treatment</td><td></td><td>A</td><td></td><td>B</td><td>2</td><td></td><td>String</td></tr><tr><th>5</th><td>Result</td><td></td><td>Improved</td><td></td><td>Worse</td><td>3</td><td></td><td>String</td></tr></tbody></table>"
      ],
      "text/latex": [
       "\\begin{tabular}{r|cccccccc}\n",
       "\t& variable & mean & min & median & max & nunique & nmissing & eltype\\\\\n",
       "\t\\hline\n",
       "\t& Symbol & Union… & Any & Union… & Any & Union… & Nothing & DataType\\\\\n",
       "\t\\hline\n",
       "\t1 & Age & 50.2 & 18 & 52.5 & 80 &  &  & Int64 \\\\\n",
       "\t2 & WCC & 12.018 & 6.9 & 11.95 & 16.9 &  &  & Float64 \\\\\n",
       "\t3 & CRP & 42.2 & 0 & 40.0 & 130 &  &  & Int64 \\\\\n",
       "\t4 & Treatment &  & A &  & B & 2 &  & String \\\\\n",
       "\t5 & Result &  & Improved &  & Worse & 3 &  & String \\\\\n",
       "\\end{tabular}\n"
      ],
      "text/plain": [
       "5×8 DataFrame. Omitted printing of 1 columns\n",
       "│ Row │ variable  │ mean   │ min      │ median │ max   │ nunique │ nmissing │\n",
       "│     │ \u001b[90mSymbol\u001b[39m    │ \u001b[90mUnion…\u001b[39m │ \u001b[90mAny\u001b[39m      │ \u001b[90mUnion…\u001b[39m │ \u001b[90mAny\u001b[39m   │ \u001b[90mUnion…\u001b[39m  │ \u001b[90mNothing\u001b[39m  │\n",
       "├─────┼───────────┼────────┼──────────┼────────┼───────┼─────────┼──────────┤\n",
       "│ 1   │ Age       │ 50.2   │ 18       │ 52.5   │ 80    │         │          │\n",
       "│ 2   │ WCC       │ 12.018 │ 6.9      │ 11.95  │ 16.9  │         │          │\n",
       "│ 3   │ CRP       │ 42.2   │ 0        │ 40.0   │ 130   │         │          │\n",
       "│ 4   │ Treatment │        │ A        │        │ B     │ 2       │          │\n",
       "│ 5   │ Result    │        │ Improved │        │ Worse │ 3       │          │"
      ]
     },
     "execution_count": 34,
     "metadata": {},
     "output_type": "execute_result"
    }
   ],
   "source": [
    "describe(data)"
   ]
  },
  {
   "cell_type": "code",
   "execution_count": 35,
   "metadata": {},
   "outputs": [
    {
     "name": "stderr",
     "output_type": "stream",
     "text": [
      "┌ Warning: `by(d::AbstractDataFrame, cols::Any, f::Base.Callable; sort::Bool=false, skipmissing::Bool=false)` is deprecated, use `combine(f, groupby(d, cols, sort=sort, skipmissing=skipmissing))` instead.\n",
      "│   caller = top-level scope at In[35]:1\n",
      "└ @ Core In[35]:1\n"
     ]
    },
    {
     "data": {
      "text/html": [
       "<table class=\"data-frame\"><thead><tr><th></th><th>Treatment</th><th>N</th></tr><tr><th></th><th>String</th><th>Int64</th></tr></thead><tbody><p>2 rows × 2 columns</p><tr><th>1</th><td>B</td><td>46</td></tr><tr><th>2</th><td>A</td><td>54</td></tr></tbody></table>"
      ],
      "text/latex": [
       "\\begin{tabular}{r|cc}\n",
       "\t& Treatment & N\\\\\n",
       "\t\\hline\n",
       "\t& String & Int64\\\\\n",
       "\t\\hline\n",
       "\t1 & B & 46 \\\\\n",
       "\t2 & A & 54 \\\\\n",
       "\\end{tabular}\n"
      ],
      "text/plain": [
       "2×2 DataFrame\n",
       "│ Row │ Treatment │ N     │\n",
       "│     │ \u001b[90mString\u001b[39m    │ \u001b[90mInt64\u001b[39m │\n",
       "├─────┼───────────┼───────┤\n",
       "│ 1   │ B         │ 46    │\n",
       "│ 2   │ A         │ 54    │"
      ]
     },
     "execution_count": 35,
     "metadata": {},
     "output_type": "execute_result"
    }
   ],
   "source": [
    "#counting no of patients in groupA and groupB\n",
    "by(data, :Treatment, df -> DataFrame(N = size(df, 1)))"
   ]
  },
  {
   "cell_type": "code",
   "execution_count": 41,
   "metadata": {},
   "outputs": [
    {
     "name": "stderr",
     "output_type": "stream",
     "text": [
      "┌ Warning: `by(d::AbstractDataFrame, cols::Any, f::Base.Callable; sort::Bool=false, skipmissing::Bool=false)` is deprecated, use `combine(f, groupby(d, cols, sort=sort, skipmissing=skipmissing))` instead.\n",
      "│   caller = top-level scope at In[41]:1\n",
      "└ @ Core In[41]:1\n"
     ]
    },
    {
     "data": {
      "text/html": [
       "<table class=\"data-frame\"><thead><tr><th></th><th>Treatment</th><th>N</th></tr><tr><th></th><th>String</th><th>Int64</th></tr></thead><tbody><p>2 rows × 2 columns</p><tr><th>1</th><td>B</td><td>46</td></tr><tr><th>2</th><td>A</td><td>54</td></tr></tbody></table>"
      ],
      "text/latex": [
       "\\begin{tabular}{r|cc}\n",
       "\t& Treatment & N\\\\\n",
       "\t\\hline\n",
       "\t& String & Int64\\\\\n",
       "\t\\hline\n",
       "\t1 & B & 46 \\\\\n",
       "\t2 & A & 54 \\\\\n",
       "\\end{tabular}\n"
      ],
      "text/plain": [
       "2×2 DataFrame\n",
       "│ Row │ Treatment │ N     │\n",
       "│     │ \u001b[90mString\u001b[39m    │ \u001b[90mInt64\u001b[39m │\n",
       "├─────┼───────────┼───────┤\n",
       "│ 1   │ B         │ 46    │\n",
       "│ 2   │ A         │ 54    │"
      ]
     },
     "execution_count": 41,
     "metadata": {},
     "output_type": "execute_result"
    }
   ],
   "source": [
    "by(data, :Treatment, df -> DataFrame(N = size(df, 1)))"
   ]
  },
  {
   "cell_type": "code",
   "execution_count": 42,
   "metadata": {},
   "outputs": [
    {
     "name": "stderr",
     "output_type": "stream",
     "text": [
      "┌ Warning: `by(d::AbstractDataFrame, cols::Any, f::Base.Callable; sort::Bool=false, skipmissing::Bool=false)` is deprecated, use `combine(f, groupby(d, cols, sort=sort, skipmissing=skipmissing))` instead.\n",
      "│   caller = top-level scope at In[42]:1\n",
      "└ @ Core In[42]:1\n"
     ]
    },
    {
     "data": {
      "text/html": [
       "<table class=\"data-frame\"><thead><tr><th></th><th>Treatment</th><th>x1</th></tr><tr><th></th><th>String</th><th>Tuple…</th></tr></thead><tbody><p>2 rows × 2 columns</p><tr><th>1</th><td>B</td><td>(46, 5)</td></tr><tr><th>2</th><td>A</td><td>(54, 5)</td></tr></tbody></table>"
      ],
      "text/latex": [
       "\\begin{tabular}{r|cc}\n",
       "\t& Treatment & x1\\\\\n",
       "\t\\hline\n",
       "\t& String & Tuple…\\\\\n",
       "\t\\hline\n",
       "\t1 & B & (46, 5) \\\\\n",
       "\t2 & A & (54, 5) \\\\\n",
       "\\end{tabular}\n"
      ],
      "text/plain": [
       "2×2 DataFrame\n",
       "│ Row │ Treatment │ x1      │\n",
       "│     │ \u001b[90mString\u001b[39m    │ \u001b[90mTuple…\u001b[39m  │\n",
       "├─────┼───────────┼─────────┤\n",
       "│ 1   │ B         │ (46, 5) │\n",
       "│ 2   │ A         │ (54, 5) │"
      ]
     },
     "execution_count": 42,
     "metadata": {},
     "output_type": "execute_result"
    }
   ],
   "source": [
    "by(data, :Treatment, size)"
   ]
  },
  {
   "cell_type": "code",
   "execution_count": 45,
   "metadata": {},
   "outputs": [
    {
     "name": "stderr",
     "output_type": "stream",
     "text": [
      "┌ Warning: `by(d::AbstractDataFrame, cols::Any, f::Base.Callable; sort::Bool=false, skipmissing::Bool=false)` is deprecated, use `combine(f, groupby(d, cols, sort=sort, skipmissing=skipmissing))` instead.\n",
      "│   caller = top-level scope at In[45]:1\n",
      "└ @ Core In[45]:1\n"
     ]
    },
    {
     "data": {
      "text/html": [
       "<table class=\"data-frame\"><thead><tr><th></th><th>Treatment</th><th>x1</th></tr><tr><th></th><th>String</th><th>Float64</th></tr></thead><tbody><p>2 rows × 2 columns</p><tr><th>1</th><td>B</td><td>48.5652</td></tr><tr><th>2</th><td>A</td><td>51.5926</td></tr></tbody></table>"
      ],
      "text/latex": [
       "\\begin{tabular}{r|cc}\n",
       "\t& Treatment & x1\\\\\n",
       "\t\\hline\n",
       "\t& String & Float64\\\\\n",
       "\t\\hline\n",
       "\t1 & B & 48.5652 \\\\\n",
       "\t2 & A & 51.5926 \\\\\n",
       "\\end{tabular}\n"
      ],
      "text/plain": [
       "2×2 DataFrame\n",
       "│ Row │ Treatment │ x1      │\n",
       "│     │ \u001b[90mString\u001b[39m    │ \u001b[90mFloat64\u001b[39m │\n",
       "├─────┼───────────┼─────────┤\n",
       "│ 1   │ B         │ 48.5652 │\n",
       "│ 2   │ A         │ 51.5926 │"
      ]
     },
     "execution_count": 45,
     "metadata": {},
     "output_type": "execute_result"
    }
   ],
   "source": [
    "by(data, :Treatment, df -> mean(df.Age))\n",
    "#Mean age of group A and B patients"
   ]
  },
  {
   "cell_type": "code",
   "execution_count": 46,
   "metadata": {},
   "outputs": [
    {
     "name": "stderr",
     "output_type": "stream",
     "text": [
      "┌ Warning: `by(d::AbstractDataFrame, cols::Any, f::Base.Callable; sort::Bool=false, skipmissing::Bool=false)` is deprecated, use `combine(f, groupby(d, cols, sort=sort, skipmissing=skipmissing))` instead.\n",
      "│   caller = top-level scope at In[46]:1\n",
      "└ @ Core In[46]:1\n"
     ]
    },
    {
     "data": {
      "text/html": [
       "<table class=\"data-frame\"><thead><tr><th></th><th>Treatment</th><th>x1</th></tr><tr><th></th><th>String</th><th>Float64</th></tr></thead><tbody><p>2 rows × 2 columns</p><tr><th>1</th><td>B</td><td>16.6262</td></tr><tr><th>2</th><td>A</td><td>18.7943</td></tr></tbody></table>"
      ],
      "text/latex": [
       "\\begin{tabular}{r|cc}\n",
       "\t& Treatment & x1\\\\\n",
       "\t\\hline\n",
       "\t& String & Float64\\\\\n",
       "\t\\hline\n",
       "\t1 & B & 16.6262 \\\\\n",
       "\t2 & A & 18.7943 \\\\\n",
       "\\end{tabular}\n"
      ],
      "text/plain": [
       "2×2 DataFrame\n",
       "│ Row │ Treatment │ x1      │\n",
       "│     │ \u001b[90mString\u001b[39m    │ \u001b[90mFloat64\u001b[39m │\n",
       "├─────┼───────────┼─────────┤\n",
       "│ 1   │ B         │ 16.6262 │\n",
       "│ 2   │ A         │ 18.7943 │"
      ]
     },
     "execution_count": 46,
     "metadata": {},
     "output_type": "execute_result"
    }
   ],
   "source": [
    "by(data, :Treatment, df -> std(df.Age))"
   ]
  },
  {
   "cell_type": "code",
   "execution_count": 47,
   "metadata": {},
   "outputs": [
    {
     "name": "stderr",
     "output_type": "stream",
     "text": [
      "┌ Warning: `by(d::AbstractDataFrame, cols::Any, f::Base.Callable; sort::Bool=false, skipmissing::Bool=false)` is deprecated, use `combine(f, groupby(d, cols, sort=sort, skipmissing=skipmissing))` instead.\n",
      "│   caller = top-level scope at In[47]:1\n",
      "└ @ Core In[47]:1\n"
     ]
    },
    {
     "name": "stdout",
     "output_type": "stream",
     "text": [
      "Summary Stats:\n",
      "Length:         46\n",
      "Missing Count:  0\n",
      "Mean:           48.565217\n",
      "Minimum:        19.000000\n",
      "1st Quartile:   36.000000\n",
      "Median:         52.000000\n",
      "3rd Quartile:   61.750000\n",
      "Maximum:        76.000000\n",
      "Type:           Int64\n",
      "Summary Stats:\n",
      "Length:         54\n",
      "Missing Count:  0\n",
      "Mean:           51.592593\n",
      "Minimum:        18.000000\n",
      "1st Quartile:   34.000000\n",
      "Median:         53.000000\n",
      "3rd Quartile:   66.750000\n",
      "Maximum:        80.000000\n",
      "Type:           Int64\n"
     ]
    },
    {
     "data": {
      "text/html": [
       "<table class=\"data-frame\"><thead><tr><th></th><th>Treatment</th><th>x1</th></tr><tr><th></th><th>String</th><th>Nothing</th></tr></thead><tbody><p>2 rows × 2 columns</p><tr><th>1</th><td>B</td><td></td></tr><tr><th>2</th><td>A</td><td></td></tr></tbody></table>"
      ],
      "text/latex": [
       "\\begin{tabular}{r|cc}\n",
       "\t& Treatment & x1\\\\\n",
       "\t\\hline\n",
       "\t& String & Nothing\\\\\n",
       "\t\\hline\n",
       "\t1 & B &  \\\\\n",
       "\t2 & A &  \\\\\n",
       "\\end{tabular}\n"
      ],
      "text/plain": [
       "2×2 DataFrame\n",
       "│ Row │ Treatment │ x1      │\n",
       "│     │ \u001b[90mString\u001b[39m    │ \u001b[90mNothing\u001b[39m │\n",
       "├─────┼───────────┼─────────┤\n",
       "│ 1   │ B         │         │\n",
       "│ 2   │ A         │         │"
      ]
     },
     "execution_count": 47,
     "metadata": {},
     "output_type": "execute_result"
    }
   ],
   "source": [
    "by(data, :Treatment, df -> describe(df.Age))"
   ]
  },
  {
   "cell_type": "markdown",
   "metadata": {},
   "source": [
    "Visualizing Data"
   ]
  },
  {
   "cell_type": "code",
   "execution_count": 51,
   "metadata": {},
   "outputs": [
    {
     "ename": "LoadError",
     "evalue": "UndefVarError: @df not defined",
     "output_type": "error",
     "traceback": [
      "UndefVarError: @df not defined",
      ""
     ]
    }
   ],
   "source": [
    "@df data density(:Age, group = :Treatment, title = \"Distribution of ages by treatment group\",\n",
    "xlab = \"Age\", ylab = \"Distribution\",\n",
    "legend = :topright)\n",
    "#due to statPlots installation failed @df is not working but this shows output as a graph"
   ]
  },
  {
   "cell_type": "code",
   "execution_count": null,
   "metadata": {},
   "outputs": [],
   "source": [
    "@df data density(:Age, group = :Result, title = \"Distribution of ages by treatment group\",\n",
    "xlab = \"Age\", ylab = \"Distribution\",\n",
    "legend = :topright)"
   ]
  },
  {
   "cell_type": "code",
   "execution_count": null,
   "metadata": {},
   "outputs": [],
   "source": [
    "@df data density(:Age, group = (:Treatment, :Result), title = \"Distribution of ages by treatment group\",\n",
    "xlab = \"Age\", ylab = \"Distribution\",\n",
    "legend = :topright)"
   ]
  },
  {
   "cell_type": "code",
   "execution_count": null,
   "metadata": {},
   "outputs": [],
   "source": [
    "@df data boxplot(:Result, :WCC,lab = \"WCC\", title = \"White cell count by treatment group\",\n",
    "xlab = \"Groups\", ylab = \"WCC\")\n",
    "#box plot graph will be displayed"
   ]
  },
  {
   "cell_type": "code",
   "execution_count": null,
   "metadata": {},
   "outputs": [],
   "source": [
    "@df data corrplot([:Age :WCC :CRP], grid = false)"
   ]
  },
  {
   "cell_type": "markdown",
   "metadata": {},
   "source": [
    "Inferial Statistics"
   ]
  },
  {
   "cell_type": "code",
   "execution_count": 74,
   "metadata": {},
   "outputs": [
    {
     "data": {
      "text/plain": [
       "Two sample t-test (equal variance)\n",
       "----------------------------------\n",
       "Population details:\n",
       "    parameter of interest:   Mean difference\n",
       "    value under h_0:         0\n",
       "    point estimate:          3.027375201288244\n",
       "    95% confidence interval: (-4.0726, 10.1273)\n",
       "\n",
       "Test summary:\n",
       "    outcome with 95% confidence: fail to reject h_0\n",
       "    two-sided p-value:           0.3995\n",
       "\n",
       "Details:\n",
       "    number of observations:   [54,46]\n",
       "    t-statistic:              0.8461628988003578\n",
       "    degrees of freedom:       98\n",
       "    empirical standard error: 3.577768779014403\n"
      ]
     },
     "execution_count": 74,
     "metadata": {},
     "output_type": "execute_result"
    }
   ],
   "source": [
    "HypothesisTests.EqualVarianceTTest(dataA[!,:Age], dataB[!,:Age])\n",
    "#difference of age btw patients in both groups"
   ]
  },
  {
   "cell_type": "code",
   "execution_count": 73,
   "metadata": {},
   "outputs": [
    {
     "data": {
      "text/plain": [
       "0.14941556699974626"
      ]
     },
     "execution_count": 73,
     "metadata": {},
     "output_type": "execute_result"
    }
   ],
   "source": [
    "pvalue(EqualVarianceTTest(dataA[!,:WCC], dataB[!,:WCC]))"
   ]
  },
  {
   "cell_type": "code",
   "execution_count": 71,
   "metadata": {},
   "outputs": [
    {
     "data": {
      "text/plain": [
       "Two sample t-test (unequal variance)\n",
       "------------------------------------\n",
       "Population details:\n",
       "    parameter of interest:   Mean difference\n",
       "    value under h_0:         0\n",
       "    point estimate:          0.8534621578099859\n",
       "    95% confidence interval: (-10.634, 12.3409)\n",
       "\n",
       "Test summary:\n",
       "    outcome with 95% confidence: fail to reject h_0\n",
       "    two-sided p-value:           0.8830\n",
       "\n",
       "Details:\n",
       "    number of observations:   [54,46]\n",
       "    t-statistic:              0.14750475714711367\n",
       "    degrees of freedom:       94.50622495924287\n",
       "    empirical standard error: 5.7859975116516855\n"
      ]
     },
     "execution_count": 71,
     "metadata": {},
     "output_type": "execute_result"
    }
   ],
   "source": [
    "UnequalVarianceTTest(dataA[!,:CRP], dataB[!,:CRP])"
   ]
  },
  {
   "cell_type": "code",
   "execution_count": 55,
   "metadata": {},
   "outputs": [
    {
     "data": {
      "text/plain": [
       "StatsModels.TableRegressionModel{LinearModel{GLM.LmResp{Array{Float64,1}},GLM.DensePredChol{Float64,LinearAlgebra.Cholesky{Float64,Array{Float64,2}}}},Array{Float64,2}}\n",
       "\n",
       "CRP ~ 1\n",
       "\n",
       "Coefficients:\n",
       "─────────────────────────────────────────────────────────────────────\n",
       "             Coef.  Std. Error      t  Pr(>|t|)  Lower 95%  Upper 95%\n",
       "─────────────────────────────────────────────────────────────────────\n",
       "(Intercept)   42.2     2.86244  14.74    <1e-25    36.5203    47.8797\n",
       "─────────────────────────────────────────────────────────────────────"
      ]
     },
     "execution_count": 55,
     "metadata": {},
     "output_type": "execute_result"
    }
   ],
   "source": [
    "#predicting CRP\n",
    "fit(LinearModel, @formula(CRP ~ 1), data)"
   ]
  },
  {
   "cell_type": "code",
   "execution_count": 56,
   "metadata": {},
   "outputs": [
    {
     "data": {
      "text/plain": [
       "StatsModels.TableRegressionModel{LinearModel{GLM.LmResp{Array{Float64,1}},GLM.DensePredChol{Float64,LinearAlgebra.Cholesky{Float64,Array{Float64,2}}}},Array{Float64,2}}\n",
       "\n",
       "CRP ~ 1 + Age\n",
       "\n",
       "Coefficients:\n",
       "─────────────────────────────────────────────────────────────────────────\n",
       "                  Coef.  Std. Error     t  Pr(>|t|)  Lower 95%  Upper 95%\n",
       "─────────────────────────────────────────────────────────────────────────\n",
       "(Intercept)  38.9757        8.63784  4.51    <1e-4   21.8342    56.1173  \n",
       "Age           0.0642284     0.16226  0.40    0.6931  -0.257771   0.386228\n",
       "─────────────────────────────────────────────────────────────────────────"
      ]
     },
     "execution_count": 56,
     "metadata": {},
     "output_type": "execute_result"
    }
   ],
   "source": [
    "fit(LinearModel, @formula(CRP ~ Age), data)\n",
    "#using Age as a predictor variable"
   ]
  },
  {
   "cell_type": "code",
   "execution_count": 57,
   "metadata": {},
   "outputs": [
    {
     "data": {
      "text/plain": [
       "StatsModels.TableRegressionModel{LinearModel{GLM.LmResp{Array{Float64,1}},GLM.DensePredChol{Float64,LinearAlgebra.Cholesky{Float64,Array{Float64,2}}}},Array{Float64,2}}\n",
       "\n",
       "CRP ~ 1 + Age + WCC\n",
       "\n",
       "Coefficients:\n",
       "──────────────────────────────────────────────────────────────────────────\n",
       "                  Coef.  Std. Error     t  Pr(>|t|)   Lower 95%  Upper 95%\n",
       "──────────────────────────────────────────────────────────────────────────\n",
       "(Intercept)  21.9986       20.2455   1.09    0.2799  -18.1831    62.1803  \n",
       "Age           0.0517817     0.16293  0.32    0.7513   -0.271589   0.375152\n",
       "WCC           1.46463       1.5794   0.93    0.3561   -1.67003    4.5993  \n",
       "──────────────────────────────────────────────────────────────────────────"
      ]
     },
     "execution_count": 57,
     "metadata": {},
     "output_type": "execute_result"
    }
   ],
   "source": [
    "fit(LinearModel, @formula(CRP ~ Age+WCC), data)\n",
    "#both Age and WCC are P values"
   ]
  },
  {
   "cell_type": "code",
   "execution_count": 58,
   "metadata": {},
   "outputs": [
    {
     "name": "stderr",
     "output_type": "stream",
     "text": [
      "┌ Warning: `by(d::AbstractDataFrame, cols::Any, f::Base.Callable; sort::Bool=false, skipmissing::Bool=false)` is deprecated, use `combine(f, groupby(d, cols, sort=sort, skipmissing=skipmissing))` instead.\n",
      "│   caller = top-level scope at In[58]:1\n",
      "└ @ Core In[58]:1\n"
     ]
    },
    {
     "data": {
      "text/html": [
       "<table class=\"data-frame\"><thead><tr><th></th><th>Result</th><th>N</th></tr><tr><th></th><th>String</th><th>Int64</th></tr></thead><tbody><p>3 rows × 2 columns</p><tr><th>1</th><td>Static</td><td>25</td></tr><tr><th>2</th><td>Worse</td><td>15</td></tr><tr><th>3</th><td>Improved</td><td>14</td></tr></tbody></table>"
      ],
      "text/latex": [
       "\\begin{tabular}{r|cc}\n",
       "\t& Result & N\\\\\n",
       "\t\\hline\n",
       "\t& String & Int64\\\\\n",
       "\t\\hline\n",
       "\t1 & Static & 25 \\\\\n",
       "\t2 & Worse & 15 \\\\\n",
       "\t3 & Improved & 14 \\\\\n",
       "\\end{tabular}\n"
      ],
      "text/plain": [
       "3×2 DataFrame\n",
       "│ Row │ Result   │ N     │\n",
       "│     │ \u001b[90mString\u001b[39m   │ \u001b[90mInt64\u001b[39m │\n",
       "├─────┼──────────┼───────┤\n",
       "│ 1   │ Static   │ 25    │\n",
       "│ 2   │ Worse    │ 15    │\n",
       "│ 3   │ Improved │ 14    │"
      ]
     },
     "execution_count": 58,
     "metadata": {},
     "output_type": "execute_result"
    }
   ],
   "source": [
    "by(dataA, :Result, df -> DataFrame(N = size(df, 1)))"
   ]
  },
  {
   "cell_type": "code",
   "execution_count": 59,
   "metadata": {},
   "outputs": [
    {
     "name": "stderr",
     "output_type": "stream",
     "text": [
      "┌ Warning: `by(d::AbstractDataFrame, cols::Any, f::Base.Callable; sort::Bool=false, skipmissing::Bool=false)` is deprecated, use `combine(f, groupby(d, cols, sort=sort, skipmissing=skipmissing))` instead.\n",
      "│   caller = top-level scope at In[59]:1\n",
      "└ @ Core In[59]:1\n"
     ]
    },
    {
     "data": {
      "text/html": [
       "<table class=\"data-frame\"><thead><tr><th></th><th>Result</th><th>N</th></tr><tr><th></th><th>String</th><th>Int64</th></tr></thead><tbody><p>3 rows × 2 columns</p><tr><th>1</th><td>Improved</td><td>13</td></tr><tr><th>2</th><td>Static</td><td>11</td></tr><tr><th>3</th><td>Worse</td><td>22</td></tr></tbody></table>"
      ],
      "text/latex": [
       "\\begin{tabular}{r|cc}\n",
       "\t& Result & N\\\\\n",
       "\t\\hline\n",
       "\t& String & Int64\\\\\n",
       "\t\\hline\n",
       "\t1 & Improved & 13 \\\\\n",
       "\t2 & Static & 11 \\\\\n",
       "\t3 & Worse & 22 \\\\\n",
       "\\end{tabular}\n"
      ],
      "text/plain": [
       "3×2 DataFrame\n",
       "│ Row │ Result   │ N     │\n",
       "│     │ \u001b[90mString\u001b[39m   │ \u001b[90mInt64\u001b[39m │\n",
       "├─────┼──────────┼───────┤\n",
       "│ 1   │ Improved │ 13    │\n",
       "│ 2   │ Static   │ 11    │\n",
       "│ 3   │ Worse    │ 22    │"
      ]
     },
     "execution_count": 59,
     "metadata": {},
     "output_type": "execute_result"
    }
   ],
   "source": [
    "by(dataB, :Result, df -> DataFrame(N = size(df, 1)))"
   ]
  },
  {
   "cell_type": "code",
   "execution_count": 60,
   "metadata": {},
   "outputs": [
    {
     "data": {
      "text/plain": [
       "2×3 Array{Int64,2}:\n",
       " 22  18  11\n",
       " 17  18  14"
      ]
     },
     "execution_count": 60,
     "metadata": {},
     "output_type": "execute_result"
    }
   ],
   "source": [
    "observed = reshape([22, 17, 18, 18, 11, 14], (2,3))\n",
    "observed"
   ]
  },
  {
   "cell_type": "code",
   "execution_count": 61,
   "metadata": {},
   "outputs": [
    {
     "data": {
      "text/plain": [
       "Pearson's Chi-square Test\n",
       "-------------------------\n",
       "Population details:\n",
       "    parameter of interest:   Multinomial Probabilities\n",
       "    value under h_0:         [0.1989, 0.1911, 0.1836, 0.1764, 0.1275, 0.1225]\n",
       "    point estimate:          [0.22, 0.17, 0.18, 0.18, 0.11, 0.14]\n",
       "    95% confidence interval: Tuple{Float64,Float64}[(0.13, 0.3184), (0.08, 0.2684), (0.09, 0.2784), (0.09, 0.2784), (0.02, 0.2084), (0.05, 0.2384)]\n",
       "\n",
       "Test summary:\n",
       "    outcome with 95% confidence: fail to reject h_0\n",
       "    one-sided p-value:           0.6183\n",
       "\n",
       "Details:\n",
       "    Sample size:        100\n",
       "    statistic:          0.9614102051076865\n",
       "    degrees of freedom: 2\n",
       "    residuals:          [0.473113, -0.482672, -0.0840168, 0.0857143, -0.490098, 0.5]\n",
       "    std. residuals:     [0.865371, -0.865371, -0.15003, 0.15003, -0.808452, 0.808452]\n"
      ]
     },
     "execution_count": 61,
     "metadata": {},
     "output_type": "execute_result"
    }
   ],
   "source": [
    "ChisqTest(observed)"
   ]
  },
  {
   "cell_type": "markdown",
   "metadata": {},
   "source": [
    "Exporting CSV file"
   ]
  },
  {
   "cell_type": "code",
   "execution_count": 62,
   "metadata": {},
   "outputs": [],
   "source": [
    "CSV.write(\"ProjectData_1_point_0.csv\", data);"
   ]
  },
  {
   "cell_type": "code",
   "execution_count": 76,
   "metadata": {},
   "outputs": [
    {
     "data": {
      "text/plain": [
       "200-element Array{Float64,1}:\n",
       "  81.62062704218836\n",
       "  86.67967083336401\n",
       "  79.15222910514527\n",
       "  51.50170877610354\n",
       "  89.67404036152334\n",
       "  74.86212046197878\n",
       "  67.38509808088557\n",
       "  91.43728949889895\n",
       "  95.56367148942243\n",
       "  68.39050360716922\n",
       " 104.02290809422706\n",
       "  78.01087468239103\n",
       "  62.49265057609732\n",
       "   ⋮               \n",
       "  84.80616836236229\n",
       "  76.81184360634121\n",
       "  75.64117855348879\n",
       "  96.26283366059452\n",
       "  83.7000435207725 \n",
       "  82.13752567995802\n",
       "  87.66348247415984\n",
       "  82.52452258770752\n",
       "  77.51783370609883\n",
       "  80.39037933841915\n",
       "  78.24194656166821\n",
       "  72.42282159031497"
      ]
     },
     "execution_count": 76,
     "metadata": {},
     "output_type": "execute_result"
    }
   ],
   "source": [
    "using Distributions\n",
    "d = rand(Normal(80, 10), 200) "
   ]
  },
  {
   "cell_type": "code",
   "execution_count": 84,
   "metadata": {},
   "outputs": [
    {
     "data": {
      "text/plain": [
       "94.71828525584372"
      ]
     },
     "execution_count": 84,
     "metadata": {},
     "output_type": "execute_result"
    }
   ],
   "source": [
    "std(d)*std(d)"
   ]
  },
  {
   "cell_type": "code",
   "execution_count": 78,
   "metadata": {},
   "outputs": [
    {
     "data": {
      "text/plain": [
       "100-element Array{Float64,1}:\n",
       " 0.44114259925732835 \n",
       " 0.3740725876106177  \n",
       " 0.23530288635598895 \n",
       " 0.23028440116377435 \n",
       " 0.42996691515471785 \n",
       " 0.5530440701511741  \n",
       " 0.8135984397795775  \n",
       " 0.06905632895008917 \n",
       " 0.32401490346159156 \n",
       " 0.630685189045207   \n",
       " 0.06301768065470337 \n",
       " 0.4387562664100979  \n",
       " 0.024105696707039437\n",
       " ⋮                   \n",
       " 0.6066929268187291  \n",
       " 0.22006130403648871 \n",
       " 0.5610119010362651  \n",
       " 0.5721749596921979  \n",
       " 0.23293470994346444 \n",
       " 0.4213640891972448  \n",
       " 0.26905773829296    \n",
       " 0.7348290158458091  \n",
       " 0.16377440259034226 \n",
       " 0.3746353844233987  \n",
       " 0.46193401486198504 \n",
       " 0.9790577144846226  "
      ]
     },
     "execution_count": 78,
     "metadata": {},
     "output_type": "execute_result"
    }
   ],
   "source": [
    "a = rand(100)"
   ]
  },
  {
   "cell_type": "code",
   "execution_count": 79,
   "metadata": {},
   "outputs": [
    {
     "data": {
      "text/plain": [
       "0.45468338806638164"
      ]
     },
     "execution_count": 79,
     "metadata": {},
     "output_type": "execute_result"
    }
   ],
   "source": [
    "mean(a)"
   ]
  },
  {
   "cell_type": "code",
   "execution_count": 86,
   "metadata": {},
   "outputs": [
    {
     "ename": "UndefVarError",
     "evalue": "UndefVarError: df not defined",
     "output_type": "error",
     "traceback": [
      "UndefVarError: df not defined",
      "",
      "Stacktrace:",
      " [1] top-level scope at In[86]:1"
     ]
    }
   ],
   "source": []
  },
  {
   "cell_type": "code",
   "execution_count": null,
   "metadata": {},
   "outputs": [],
   "source": []
  }
 ],
 "metadata": {
  "kernelspec": {
   "display_name": "Julia 1.0.5",
   "language": "julia",
   "name": "julia-1.0"
  },
  "language_info": {
   "file_extension": ".jl",
   "mimetype": "application/julia",
   "name": "julia",
   "version": "1.0.5"
  }
 },
 "nbformat": 4,
 "nbformat_minor": 4
}
