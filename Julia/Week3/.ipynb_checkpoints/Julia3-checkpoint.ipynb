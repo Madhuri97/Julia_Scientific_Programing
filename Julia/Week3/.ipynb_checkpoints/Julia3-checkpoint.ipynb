{
 "cells": [
  {
   "cell_type": "code",
   "execution_count": 1,
   "metadata": {},
   "outputs": [
    {
     "data": {
      "text/plain": [
       "42"
      ]
     },
     "execution_count": 1,
     "metadata": {},
     "output_type": "execute_result"
    }
   ],
   "source": [
    "b = 7\n",
    "f(x) = b*x\n",
    "f(6)"
   ]
  },
  {
   "cell_type": "code",
   "execution_count": 2,
   "metadata": {},
   "outputs": [
    {
     "data": {
      "text/plain": [
       "updateSIR (generic function with 1 method)"
      ]
     },
     "execution_count": 2,
     "metadata": {},
     "output_type": "execute_result"
    }
   ],
   "source": [
    "function updateSIR(popnvector)       # some liberty here: using upper case in the function name\n",
    "    susceptibles = popnvector[1];\n",
    "    infecteds    = popnvector[2]; \n",
    "    removeds     = popnvector[3];\n",
    "    newS = susceptibles - lambda*susceptibles*infecteds*dt\n",
    "    newI = infecteds + lambda*susceptibles*infecteds*dt - gam*infecteds*dt  #note abbreviation for gamma (see below)\n",
    "    newR = removeds + gam*infecteds*dt\n",
    "    return [newS newI newR]   # NB! spaces only to make this a one row of a two-dimensional array\n",
    "    #                   and note the use of \"return\" to specify what the function output should be \n",
    "end "
   ]
  },
  {
   "cell_type": "code",
   "execution_count": 11,
   "metadata": {
    "scrolled": true
   },
   "outputs": [
    {
     "ename": "MethodError",
     "evalue": "MethodError: no method matching Array(::Type{Float64}, ::Int64, ::Int64)\nClosest candidates are:\n  Array(!Matched::LinearAlgebra.UniformScaling, ::Integer, ::Integer) at C:\\cygwin\\home\\Administrator\\buildbot\\worker\\package_win64\\build\\usr\\share\\julia\\stdlib\\v1.0\\LinearAlgebra\\src\\uniformscaling.jl:330",
     "output_type": "error",
     "traceback": [
      "MethodError: no method matching Array(::Type{Float64}, ::Int64, ::Int64)\nClosest candidates are:\n  Array(!Matched::LinearAlgebra.UniformScaling, ::Integer, ::Integer) at C:\\cygwin\\home\\Administrator\\buildbot\\worker\\package_win64\\build\\usr\\share\\julia\\stdlib\\v1.0\\LinearAlgebra\\src\\uniformscaling.jl:330",
      "",
      "Stacktrace:",
      " [1] top-level scope at In[11]:12"
     ]
    }
   ],
   "source": [
    "# set the values that define the current run\n",
    "lambda = 1/20000   # infection rate parameter (assumes rates are per day)\n",
    "gam = 1/10       # recovery rate parameter  (ditto)\n",
    "dt = 0.5         # length of time step in days\n",
    "tfinal = 610;    # respecting community values: lowercase only in the names \n",
    "s0 = 10000.0     # initial susceptibles, note that we use the  type Float64 from the start\n",
    "i0 = 4.          # initial infecteds; set this to 1. to  mimic an epidemic with an index case\n",
    "r0 = 0.          # not always the case, of course\n",
    "\n",
    "# initialise \n",
    "nsteps = round(Int64, tfinal/dt)    # note the use of round() with type Int64 to ensure that nsteps is an integer\n",
    "resultvals = Array(Float64, nsteps+1, 3)  #initialise array of type Float64 to hold results\n",
    "timevec = Array(Float64, nsteps+1)        # ... ditto for time values\n",
    "resultvals[1,:] = [s0, i0, r0]  # ... and assign them to the first row\n",
    "timevec[1] = 0.                 # also Float64, of course.\n",
    "\n",
    "for step  = 1:nsteps\n",
    "    resultvals[step+1, :] = updateSIR(resultvals[step, :])  # NB! pay careful attention to the rows being used\n",
    "    timevec[step+1] = timevec[step] + dt\n",
    "end"
   ]
  },
  {
   "cell_type": "code",
   "execution_count": 4,
   "metadata": {},
   "outputs": [
    {
     "ename": "UndefVarError",
     "evalue": "UndefVarError: timevec not defined",
     "output_type": "error",
     "traceback": [
      "UndefVarError: timevec not defined",
      "",
      "Stacktrace:",
      " [1] top-level scope at In[4]:3"
     ]
    }
   ],
   "source": [
    "using Plots\n",
    "gr()\n",
    "plot(timevec, resultvals)  # quick and dirty! Plots ought to interpret this as we mean it ..."
   ]
  },
  {
   "cell_type": "code",
   "execution_count": 5,
   "metadata": {},
   "outputs": [
    {
     "ename": "UndefVarError",
     "evalue": "UndefVarError: timevec not defined",
     "output_type": "error",
     "traceback": [
      "UndefVarError: timevec not defined",
      "",
      "Stacktrace:",
      " [1] top-level scope at In[5]:1"
     ]
    }
   ],
   "source": [
    "plot(timevec, resultvals,  # we should of course at a minimum provide some labels\n",
    "title  = \"Example of SIR results\",\n",
    "xlabel = \"Epidemic day\",\n",
    "ylabel = \"Population size\",\n",
    "label  = [\"Susceptibles\" \"Infecteds\" \"Removeds\"]\n",
    ")"
   ]
  },
  {
   "cell_type": "code",
   "execution_count": null,
   "metadata": {},
   "outputs": [],
   "source": []
  }
 ],
 "metadata": {
  "kernelspec": {
   "display_name": "Julia 1.0.5",
   "language": "julia",
   "name": "julia-1.0"
  },
  "language_info": {
   "file_extension": ".jl",
   "mimetype": "application/julia",
   "name": "julia",
   "version": "1.0.5"
  }
 },
 "nbformat": 4,
 "nbformat_minor": 4
}
